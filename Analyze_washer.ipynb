{
  "nbformat": 4,
  "nbformat_minor": 0,
  "metadata": {
    "colab": {
      "name": "Analyze_washer.ipynb",
      "provenance": [],
      "collapsed_sections": []
    },
    "kernelspec": {
      "name": "python3",
      "display_name": "Python 3"
    },
    "language_info": {
      "name": "python"
    }
  },
  "cells": [
    {
      "cell_type": "code",
      "metadata": {
        "id": "pXlNNX-eEyrz",
        "colab": {
          "resources": {
            "http://localhost:8080/nbextensions/google.colab/files.js": {
              "data": "Ly8gQ29weXJpZ2h0IDIwMTcgR29vZ2xlIExMQwovLwovLyBMaWNlbnNlZCB1bmRlciB0aGUgQXBhY2hlIExpY2Vuc2UsIFZlcnNpb24gMi4wICh0aGUgIkxpY2Vuc2UiKTsKLy8geW91IG1heSBub3QgdXNlIHRoaXMgZmlsZSBleGNlcHQgaW4gY29tcGxpYW5jZSB3aXRoIHRoZSBMaWNlbnNlLgovLyBZb3UgbWF5IG9idGFpbiBhIGNvcHkgb2YgdGhlIExpY2Vuc2UgYXQKLy8KLy8gICAgICBodHRwOi8vd3d3LmFwYWNoZS5vcmcvbGljZW5zZXMvTElDRU5TRS0yLjAKLy8KLy8gVW5sZXNzIHJlcXVpcmVkIGJ5IGFwcGxpY2FibGUgbGF3IG9yIGFncmVlZCB0byBpbiB3cml0aW5nLCBzb2Z0d2FyZQovLyBkaXN0cmlidXRlZCB1bmRlciB0aGUgTGljZW5zZSBpcyBkaXN0cmlidXRlZCBvbiBhbiAiQVMgSVMiIEJBU0lTLAovLyBXSVRIT1VUIFdBUlJBTlRJRVMgT1IgQ09ORElUSU9OUyBPRiBBTlkgS0lORCwgZWl0aGVyIGV4cHJlc3Mgb3IgaW1wbGllZC4KLy8gU2VlIHRoZSBMaWNlbnNlIGZvciB0aGUgc3BlY2lmaWMgbGFuZ3VhZ2UgZ292ZXJuaW5nIHBlcm1pc3Npb25zIGFuZAovLyBsaW1pdGF0aW9ucyB1bmRlciB0aGUgTGljZW5zZS4KCi8qKgogKiBAZmlsZW92ZXJ2aWV3IEhlbHBlcnMgZm9yIGdvb2dsZS5jb2xhYiBQeXRob24gbW9kdWxlLgogKi8KKGZ1bmN0aW9uKHNjb3BlKSB7CmZ1bmN0aW9uIHNwYW4odGV4dCwgc3R5bGVBdHRyaWJ1dGVzID0ge30pIHsKICBjb25zdCBlbGVtZW50ID0gZG9jdW1lbnQuY3JlYXRlRWxlbWVudCgnc3BhbicpOwogIGVsZW1lbnQudGV4dENvbnRlbnQgPSB0ZXh0OwogIGZvciAoY29uc3Qga2V5IG9mIE9iamVjdC5rZXlzKHN0eWxlQXR0cmlidXRlcykpIHsKICAgIGVsZW1lbnQuc3R5bGVba2V5XSA9IHN0eWxlQXR0cmlidXRlc1trZXldOwogIH0KICByZXR1cm4gZWxlbWVudDsKfQoKLy8gTWF4IG51bWJlciBvZiBieXRlcyB3aGljaCB3aWxsIGJlIHVwbG9hZGVkIGF0IGEgdGltZS4KY29uc3QgTUFYX1BBWUxPQURfU0laRSA9IDEwMCAqIDEwMjQ7CgpmdW5jdGlvbiBfdXBsb2FkRmlsZXMoaW5wdXRJZCwgb3V0cHV0SWQpIHsKICBjb25zdCBzdGVwcyA9IHVwbG9hZEZpbGVzU3RlcChpbnB1dElkLCBvdXRwdXRJZCk7CiAgY29uc3Qgb3V0cHV0RWxlbWVudCA9IGRvY3VtZW50LmdldEVsZW1lbnRCeUlkKG91dHB1dElkKTsKICAvLyBDYWNoZSBzdGVwcyBvbiB0aGUgb3V0cHV0RWxlbWVudCB0byBtYWtlIGl0IGF2YWlsYWJsZSBmb3IgdGhlIG5leHQgY2FsbAogIC8vIHRvIHVwbG9hZEZpbGVzQ29udGludWUgZnJvbSBQeXRob24uCiAgb3V0cHV0RWxlbWVudC5zdGVwcyA9IHN0ZXBzOwoKICByZXR1cm4gX3VwbG9hZEZpbGVzQ29udGludWUob3V0cHV0SWQpOwp9CgovLyBUaGlzIGlzIHJvdWdobHkgYW4gYXN5bmMgZ2VuZXJhdG9yIChub3Qgc3VwcG9ydGVkIGluIHRoZSBicm93c2VyIHlldCksCi8vIHdoZXJlIHRoZXJlIGFyZSBtdWx0aXBsZSBhc3luY2hyb25vdXMgc3RlcHMgYW5kIHRoZSBQeXRob24gc2lkZSBpcyBnb2luZwovLyB0byBwb2xsIGZvciBjb21wbGV0aW9uIG9mIGVhY2ggc3RlcC4KLy8gVGhpcyB1c2VzIGEgUHJvbWlzZSB0byBibG9jayB0aGUgcHl0aG9uIHNpZGUgb24gY29tcGxldGlvbiBvZiBlYWNoIHN0ZXAsCi8vIHRoZW4gcGFzc2VzIHRoZSByZXN1bHQgb2YgdGhlIHByZXZpb3VzIHN0ZXAgYXMgdGhlIGlucHV0IHRvIHRoZSBuZXh0IHN0ZXAuCmZ1bmN0aW9uIF91cGxvYWRGaWxlc0NvbnRpbnVlKG91dHB1dElkKSB7CiAgY29uc3Qgb3V0cHV0RWxlbWVudCA9IGRvY3VtZW50LmdldEVsZW1lbnRCeUlkKG91dHB1dElkKTsKICBjb25zdCBzdGVwcyA9IG91dHB1dEVsZW1lbnQuc3RlcHM7CgogIGNvbnN0IG5leHQgPSBzdGVwcy5uZXh0KG91dHB1dEVsZW1lbnQubGFzdFByb21pc2VWYWx1ZSk7CiAgcmV0dXJuIFByb21pc2UucmVzb2x2ZShuZXh0LnZhbHVlLnByb21pc2UpLnRoZW4oKHZhbHVlKSA9PiB7CiAgICAvLyBDYWNoZSB0aGUgbGFzdCBwcm9taXNlIHZhbHVlIHRvIG1ha2UgaXQgYXZhaWxhYmxlIHRvIHRoZSBuZXh0CiAgICAvLyBzdGVwIG9mIHRoZSBnZW5lcmF0b3IuCiAgICBvdXRwdXRFbGVtZW50Lmxhc3RQcm9taXNlVmFsdWUgPSB2YWx1ZTsKICAgIHJldHVybiBuZXh0LnZhbHVlLnJlc3BvbnNlOwogIH0pOwp9CgovKioKICogR2VuZXJhdG9yIGZ1bmN0aW9uIHdoaWNoIGlzIGNhbGxlZCBiZXR3ZWVuIGVhY2ggYXN5bmMgc3RlcCBvZiB0aGUgdXBsb2FkCiAqIHByb2Nlc3MuCiAqIEBwYXJhbSB7c3RyaW5nfSBpbnB1dElkIEVsZW1lbnQgSUQgb2YgdGhlIGlucHV0IGZpbGUgcGlja2VyIGVsZW1lbnQuCiAqIEBwYXJhbSB7c3RyaW5nfSBvdXRwdXRJZCBFbGVtZW50IElEIG9mIHRoZSBvdXRwdXQgZGlzcGxheS4KICogQHJldHVybiB7IUl0ZXJhYmxlPCFPYmplY3Q+fSBJdGVyYWJsZSBvZiBuZXh0IHN0ZXBzLgogKi8KZnVuY3Rpb24qIHVwbG9hZEZpbGVzU3RlcChpbnB1dElkLCBvdXRwdXRJZCkgewogIGNvbnN0IGlucHV0RWxlbWVudCA9IGRvY3VtZW50LmdldEVsZW1lbnRCeUlkKGlucHV0SWQpOwogIGlucHV0RWxlbWVudC5kaXNhYmxlZCA9IGZhbHNlOwoKICBjb25zdCBvdXRwdXRFbGVtZW50ID0gZG9jdW1lbnQuZ2V0RWxlbWVudEJ5SWQob3V0cHV0SWQpOwogIG91dHB1dEVsZW1lbnQuaW5uZXJIVE1MID0gJyc7CgogIGNvbnN0IHBpY2tlZFByb21pc2UgPSBuZXcgUHJvbWlzZSgocmVzb2x2ZSkgPT4gewogICAgaW5wdXRFbGVtZW50LmFkZEV2ZW50TGlzdGVuZXIoJ2NoYW5nZScsIChlKSA9PiB7CiAgICAgIHJlc29sdmUoZS50YXJnZXQuZmlsZXMpOwogICAgfSk7CiAgfSk7CgogIGNvbnN0IGNhbmNlbCA9IGRvY3VtZW50LmNyZWF0ZUVsZW1lbnQoJ2J1dHRvbicpOwogIGlucHV0RWxlbWVudC5wYXJlbnRFbGVtZW50LmFwcGVuZENoaWxkKGNhbmNlbCk7CiAgY2FuY2VsLnRleHRDb250ZW50ID0gJ0NhbmNlbCB1cGxvYWQnOwogIGNvbnN0IGNhbmNlbFByb21pc2UgPSBuZXcgUHJvbWlzZSgocmVzb2x2ZSkgPT4gewogICAgY2FuY2VsLm9uY2xpY2sgPSAoKSA9PiB7CiAgICAgIHJlc29sdmUobnVsbCk7CiAgICB9OwogIH0pOwoKICAvLyBXYWl0IGZvciB0aGUgdXNlciB0byBwaWNrIHRoZSBmaWxlcy4KICBjb25zdCBmaWxlcyA9IHlpZWxkIHsKICAgIHByb21pc2U6IFByb21pc2UucmFjZShbcGlja2VkUHJvbWlzZSwgY2FuY2VsUHJvbWlzZV0pLAogICAgcmVzcG9uc2U6IHsKICAgICAgYWN0aW9uOiAnc3RhcnRpbmcnLAogICAgfQogIH07CgogIGNhbmNlbC5yZW1vdmUoKTsKCiAgLy8gRGlzYWJsZSB0aGUgaW5wdXQgZWxlbWVudCBzaW5jZSBmdXJ0aGVyIHBpY2tzIGFyZSBub3QgYWxsb3dlZC4KICBpbnB1dEVsZW1lbnQuZGlzYWJsZWQgPSB0cnVlOwoKICBpZiAoIWZpbGVzKSB7CiAgICByZXR1cm4gewogICAgICByZXNwb25zZTogewogICAgICAgIGFjdGlvbjogJ2NvbXBsZXRlJywKICAgICAgfQogICAgfTsKICB9CgogIGZvciAoY29uc3QgZmlsZSBvZiBmaWxlcykgewogICAgY29uc3QgbGkgPSBkb2N1bWVudC5jcmVhdGVFbGVtZW50KCdsaScpOwogICAgbGkuYXBwZW5kKHNwYW4oZmlsZS5uYW1lLCB7Zm9udFdlaWdodDogJ2JvbGQnfSkpOwogICAgbGkuYXBwZW5kKHNwYW4oCiAgICAgICAgYCgke2ZpbGUudHlwZSB8fCAnbi9hJ30pIC0gJHtmaWxlLnNpemV9IGJ5dGVzLCBgICsKICAgICAgICBgbGFzdCBtb2RpZmllZDogJHsKICAgICAgICAgICAgZmlsZS5sYXN0TW9kaWZpZWREYXRlID8gZmlsZS5sYXN0TW9kaWZpZWREYXRlLnRvTG9jYWxlRGF0ZVN0cmluZygpIDoKICAgICAgICAgICAgICAgICAgICAgICAgICAgICAgICAgICAgJ24vYSd9IC0gYCkpOwogICAgY29uc3QgcGVyY2VudCA9IHNwYW4oJzAlIGRvbmUnKTsKICAgIGxpLmFwcGVuZENoaWxkKHBlcmNlbnQpOwoKICAgIG91dHB1dEVsZW1lbnQuYXBwZW5kQ2hpbGQobGkpOwoKICAgIGNvbnN0IGZpbGVEYXRhUHJvbWlzZSA9IG5ldyBQcm9taXNlKChyZXNvbHZlKSA9PiB7CiAgICAgIGNvbnN0IHJlYWRlciA9IG5ldyBGaWxlUmVhZGVyKCk7CiAgICAgIHJlYWRlci5vbmxvYWQgPSAoZSkgPT4gewogICAgICAgIHJlc29sdmUoZS50YXJnZXQucmVzdWx0KTsKICAgICAgfTsKICAgICAgcmVhZGVyLnJlYWRBc0FycmF5QnVmZmVyKGZpbGUpOwogICAgfSk7CiAgICAvLyBXYWl0IGZvciB0aGUgZGF0YSB0byBiZSByZWFkeS4KICAgIGxldCBmaWxlRGF0YSA9IHlpZWxkIHsKICAgICAgcHJvbWlzZTogZmlsZURhdGFQcm9taXNlLAogICAgICByZXNwb25zZTogewogICAgICAgIGFjdGlvbjogJ2NvbnRpbnVlJywKICAgICAgfQogICAgfTsKCiAgICAvLyBVc2UgYSBjaHVua2VkIHNlbmRpbmcgdG8gYXZvaWQgbWVzc2FnZSBzaXplIGxpbWl0cy4gU2VlIGIvNjIxMTU2NjAuCiAgICBsZXQgcG9zaXRpb24gPSAwOwogICAgZG8gewogICAgICBjb25zdCBsZW5ndGggPSBNYXRoLm1pbihmaWxlRGF0YS5ieXRlTGVuZ3RoIC0gcG9zaXRpb24sIE1BWF9QQVlMT0FEX1NJWkUpOwogICAgICBjb25zdCBjaHVuayA9IG5ldyBVaW50OEFycmF5KGZpbGVEYXRhLCBwb3NpdGlvbiwgbGVuZ3RoKTsKICAgICAgcG9zaXRpb24gKz0gbGVuZ3RoOwoKICAgICAgY29uc3QgYmFzZTY0ID0gYnRvYShTdHJpbmcuZnJvbUNoYXJDb2RlLmFwcGx5KG51bGwsIGNodW5rKSk7CiAgICAgIHlpZWxkIHsKICAgICAgICByZXNwb25zZTogewogICAgICAgICAgYWN0aW9uOiAnYXBwZW5kJywKICAgICAgICAgIGZpbGU6IGZpbGUubmFtZSwKICAgICAgICAgIGRhdGE6IGJhc2U2NCwKICAgICAgICB9LAogICAgICB9OwoKICAgICAgbGV0IHBlcmNlbnREb25lID0gZmlsZURhdGEuYnl0ZUxlbmd0aCA9PT0gMCA/CiAgICAgICAgICAxMDAgOgogICAgICAgICAgTWF0aC5yb3VuZCgocG9zaXRpb24gLyBmaWxlRGF0YS5ieXRlTGVuZ3RoKSAqIDEwMCk7CiAgICAgIHBlcmNlbnQudGV4dENvbnRlbnQgPSBgJHtwZXJjZW50RG9uZX0lIGRvbmVgOwoKICAgIH0gd2hpbGUgKHBvc2l0aW9uIDwgZmlsZURhdGEuYnl0ZUxlbmd0aCk7CiAgfQoKICAvLyBBbGwgZG9uZS4KICB5aWVsZCB7CiAgICByZXNwb25zZTogewogICAgICBhY3Rpb246ICdjb21wbGV0ZScsCiAgICB9CiAgfTsKfQoKc2NvcGUuZ29vZ2xlID0gc2NvcGUuZ29vZ2xlIHx8IHt9OwpzY29wZS5nb29nbGUuY29sYWIgPSBzY29wZS5nb29nbGUuY29sYWIgfHwge307CnNjb3BlLmdvb2dsZS5jb2xhYi5fZmlsZXMgPSB7CiAgX3VwbG9hZEZpbGVzLAogIF91cGxvYWRGaWxlc0NvbnRpbnVlLAp9Owp9KShzZWxmKTsK",
              "ok": true,
              "headers": [
                [
                  "content-type",
                  "application/javascript"
                ]
              ],
              "status": 200,
              "status_text": ""
            }
          },
          "base_uri": "https://localhost:8080/",
          "height": 142
        },
        "outputId": "8eeef2e9-1357-4959-d089-4596c2589a88"
      },
      "source": [
        "import numpy as np\n",
        "import ast\n",
        "import matplotlib.pyplot as plt\n",
        "from collections import OrderedDict\n",
        "from google.colab import files\n",
        "uploaded = files.upload()"
      ],
      "execution_count": 2,
      "outputs": [
        {
          "output_type": "display_data",
          "data": {
            "text/html": [
              "\n",
              "     <input type=\"file\" id=\"files-350d38aa-a17d-43e7-a9f7-609725d998f9\" name=\"files[]\" multiple disabled\n",
              "        style=\"border:none\" />\n",
              "     <output id=\"result-350d38aa-a17d-43e7-a9f7-609725d998f9\">\n",
              "      Upload widget is only available when the cell has been executed in the\n",
              "      current browser session. Please rerun this cell to enable.\n",
              "      </output>\n",
              "      <script src=\"/nbextensions/google.colab/files.js\"></script> "
            ],
            "text/plain": [
              "<IPython.core.display.HTML object>"
            ]
          },
          "metadata": {}
        },
        {
          "output_type": "stream",
          "name": "stdout",
          "text": [
            "Saving output_dec.py to output_dec.py\n",
            "Saving output_nov.py to output_nov.py\n",
            "Saving output_oct.py to output_oct.py\n"
          ]
        }
      ]
    },
    {
      "cell_type": "code",
      "metadata": {
        "id": "1rb1DM0pE6Sf"
      },
      "source": [
        "mainDir = \"/content\"\n",
        "\n",
        "octFile = open((mainDir+\"/output_oct.py\"), \"r\")\n",
        "octData = octFile.read()\n",
        "octData = ast.literal_eval(octData)\n",
        "octFile.close()\n",
        "\n",
        "novFile = open((mainDir+\"/output_nov.py\"), \"r\")\n",
        "novData = novFile.read()\n",
        "novData = ast.literal_eval(novData)\n",
        "novFile.close()\n",
        "\n",
        "decFile = open((mainDir+\"/output_dec.py\"), \"r\")\n",
        "decData = decFile.read()\n",
        "decData = ast.literal_eval(decData)\n",
        "decFile.close()\n",
        "\n",
        "\n"
      ],
      "execution_count": 3,
      "outputs": []
    },
    {
      "cell_type": "code",
      "metadata": {
        "id": "rSMgKlRHIW3U"
      },
      "source": [
        "ttlList = []\n",
        "\n",
        "def filterData(allData):\n",
        "\tipDict = {}\n",
        "\tfor ip in allData['']:\n",
        "\t\tipDict[ip] = []\n",
        "\t\tfor dns in allData[''][ip]:\n",
        "\t\t\tttlList.append(float(dns[1]))\n",
        "\t\t\tipDict[ip].append(dns[0])\n",
        "\treturn ipDict\n",
        "\n",
        "octFilteredData = filterData(octData)\n",
        "novFilteredData = filterData(novData)\n",
        "decFilteredData = filterData(decData)\n",
        "\n"
      ],
      "execution_count": 4,
      "outputs": []
    },
    {
      "cell_type": "code",
      "metadata": {
        "colab": {
          "base_uri": "https://localhost:8080/"
        },
        "id": "_Na8BtBUIjR_",
        "outputId": "87e27f0e-ef3c-42b6-e010-f3d7edc22d78"
      },
      "source": [
        "monthIPCount = {}\n",
        "monthIPCount['October'] = len(octFilteredData)\n",
        "monthIPCount['November'] = len(novFilteredData)\n",
        "monthIPCount['December'] = len(decFilteredData)\n",
        "\n",
        "\n",
        "\n",
        "print(monthIPCount)"
      ],
      "execution_count": 5,
      "outputs": [
        {
          "output_type": "stream",
          "name": "stdout",
          "text": [
            "{'October': 765, 'November': 68, 'December': 920}\n"
          ]
        }
      ]
    },
    {
      "cell_type": "code",
      "metadata": {
        "colab": {
          "base_uri": "https://localhost:8080/",
          "height": 312
        },
        "id": "Xllc8_DYJD2x",
        "outputId": "51ccb9a5-fbb1-40af-f695-75a83aafc7c8"
      },
      "source": [
        "ipKeys = monthIPCount.keys()\n",
        "ipValues = monthIPCount.values()\n",
        "plt.title('Washer')\n",
        "plt.xlabel('Months')\n",
        "plt.ylabel('Number of Destination IPs')\n",
        "plt.bar(ipKeys, ipValues)"
      ],
      "execution_count": 6,
      "outputs": [
        {
          "output_type": "execute_result",
          "data": {
            "text/plain": [
              "<BarContainer object of 3 artists>"
            ]
          },
          "metadata": {},
          "execution_count": 6
        },
        {
          "output_type": "display_data",
          "data": {
            "image/png": "[encoded data removed]",
            "text/plain": [
              "<Figure size 432x288 with 1 Axes>"
            ]
          },
          "metadata": {
            "needs_background": "light"
          }
        }
      ]
    },
    {
      "cell_type": "code",
      "metadata": {
        "colab": {
          "base_uri": "https://localhost:8080/"
        },
        "id": "yjwj95sdNH9-",
        "outputId": "ce01efae-c0cf-4319-ddba-f8136559f39e"
      },
      "source": [
        "pip install venn"
      ],
      "execution_count": 8,
      "outputs": [
        {
          "output_type": "stream",
          "name": "stdout",
          "text": [
            "Collecting venn\n",
            "  Downloading venn-0.1.3.tar.gz (19 kB)\n",
            "Requirement already satisfied: matplotlib in /usr/local/lib/python3.7/dist-packages (from venn) (3.2.2)\n",
            "Requirement already satisfied: kiwisolver>=1.0.1 in /usr/local/lib/python3.7/dist-packages (from matplotlib->venn) (1.3.2)\n",
            "Requirement already satisfied: python-dateutil>=2.1 in /usr/local/lib/python3.7/dist-packages (from matplotlib->venn) (2.8.2)\n",
            "Requirement already satisfied: numpy>=1.11 in /usr/local/lib/python3.7/dist-packages (from matplotlib->venn) (1.19.5)\n",
            "Requirement already satisfied: pyparsing!=2.0.4,!=2.1.2,!=2.1.6,>=2.0.1 in /usr/local/lib/python3.7/dist-packages (from matplotlib->venn) (3.0.6)\n",
            "Requirement already satisfied: cycler>=0.10 in /usr/local/lib/python3.7/dist-packages (from matplotlib->venn) (0.11.0)\n",
            "Requirement already satisfied: six>=1.5 in /usr/local/lib/python3.7/dist-packages (from python-dateutil>=2.1->matplotlib->venn) (1.15.0)\n",
            "Building wheels for collected packages: venn\n",
            "  Building wheel for venn (setup.py) ... \u001b[?25l\u001b[?25hdone\n",
            "  Created wheel for venn: filename=venn-0.1.3-py3-none-any.whl size=19714 sha256=2963a6180f5ac42d0df55f7fc8644e63aa6414834f2f178345f5abd71efe5392\n",
            "  Stored in directory: /root/.cache/pip/wheels/85/8c/61/85a84e4c69c79c6475b9689755fc4ee4dae0bdc32b101011cb\n",
            "Successfully built venn\n",
            "Installing collected packages: venn\n",
            "Successfully installed venn-0.1.3\n"
          ]
        }
      ]
    },
    {
      "cell_type": "code",
      "metadata": {
        "colab": {
          "base_uri": "https://localhost:8080/",
          "height": 700
        },
        "id": "N4tNjzCmLBka",
        "outputId": "ff1b3f7d-35d8-4f47-e54e-082a4fbe809e"
      },
      "source": [
        "from venn import venn\n",
        "labels = ['October', 'November', 'December', 'January', 'February', 'March', 'April', 'May','June','July','Aug','September']\n",
        "sets = {\n",
        "    labels[0]: set(octFilteredData.keys()),\n",
        "    labels[1]: set(novFilteredData.keys()),\n",
        "    labels[2]: set(decFilteredData.keys())\n",
        "}\n",
        "\n",
        "fig, ax = plt.subplots(1, figsize=(16,12))\n",
        "venn(sets, ax=ax)"
      ],
      "execution_count": 12,
      "outputs": [
        {
          "output_type": "execute_result",
          "data": {
            "text/plain": [
              "<matplotlib.axes._subplots.AxesSubplot at 0x7f4fcaebd490>"
            ]
          },
          "metadata": {},
          "execution_count": 12
        },
        {
          "output_type": "display_data",
          "data": {
            "image/png": "[encoded data removed]",
            "text/plain": [
              "<Figure size 1152x864 with 1 Axes>"
            ]
          },
          "metadata": {}
        }
      ]
    },
    {
      "cell_type": "code",
      "metadata": {
        "colab": {
          "base_uri": "https://localhost:8080/"
        },
        "id": "GL-t077JNGnV",
        "outputId": "ebb1e4d6-d4cf-400d-b72e-768e95045f33"
      },
      "source": [
        "#February month seems to be abnormal\n",
        "all_IP = list(octFilteredData.keys()) + list(novFilteredData.keys()) + list(decFilteredData.keys()) \n",
        "febExtraIP = []\n",
        "for IP in decFilteredData:\n",
        "  #print (IP)\n",
        "  if IP not in all_IP:\n",
        "    print(IP)\n",
        "    febExtraIP.append(IP)\n",
        "\n",
        "print('February Extra IPS', febExtraIP)\n",
        "print(len(febExtraIP))\n",
        "\n"
      ],
      "execution_count": 8,
      "outputs": [
        {
          "output_type": "stream",
          "name": "stdout",
          "text": [
            "February Extra IPS []\n",
            "0\n"
          ]
        }
      ]
    },
    {
      "cell_type": "code",
      "metadata": {
        "colab": {
          "base_uri": "https://localhost:8080/"
        },
        "id": "54pqVkwCMPiN",
        "outputId": "6de84f80-26d9-4b33-fd7d-9cc2d6d23d2a"
      },
      "source": [
        "octDomainDict = {}\n",
        "for domainList in octFilteredData.values():\n",
        "  for domain in domainList:\n",
        "    if domain not in octDomainDict:\n",
        "      octDomainDict[domain] = 1\n",
        "    else:\n",
        "      octDomainDict[domain] += 1\n",
        "print('oct', octDomainDict)\n",
        "\n",
        "novDomainDict = {}\n",
        "for domainList in novFilteredData.values():\n",
        "  for domain in domainList:\n",
        "    if domain not in novDomainDict:\n",
        "      novDomainDict[domain] = 1\n",
        "    else:\n",
        "      novDomainDict[domain] += 1\n",
        "print('nov', novDomainDict)\n",
        "\n",
        "\n",
        "decDomainDict = {}\n",
        "for domainList in decFilteredData.values():\n",
        "  for domain in domainList:\n",
        "    if domain not in decDomainDict:\n",
        "      decDomainDict[domain] = 1\n",
        "    else:\n",
        "      decDomainDict[domain] += 1\n",
        "print('dec', decDomainDict)\n",
        "\n"
      ],
      "execution_count": 9,
      "outputs": [
        {
          "output_type": "stream",
          "name": "stdout",
          "text": [
            "oct {'ipv4.connman.net': 7, 'gld.push.samsungosp.com': 383, 'graph-custom.whisk.com': 140, 'graph.whisk.com': 1099, 'pool.ntp.org': 128, 'eu-odc.tizenstore.com': 9, 'ap-odc.tizenstore.com': 6214, 'www.samsungotn.net': 120, 'api.sesupdate.com': 70, 'api.weather.com': 1520, 'configprd.samsungcloudsolution.net': 34, 'info.cspserver.net': 228, 'fhstatic.cspserver.net': 40, 'samsung-image-cdn.whisk.com': 102, 'us-fhapi.cspserver.net': 1083, 'cdn.britannica.com': 284, 'oauth.ring.com': 3960, 'us-auth2.samsungosp.com': 4149, 'log.samsunghrm.com': 462, 'ocfconnect-shard-na03-useast2.samsungiotcloud.com': 1968, 'bixby-client.aibixby.com': 196, 'api.samsungcloud.com': 631, 'fhapi.cspserver.net': 20, 'esdk-ffl.spotify.com': 8, 'cas.samsungcloud.com': 736, 'uimetadata.samsungiotcloud.com': 607, 'provisioning-use2.mgmt.aibixby.com': 736, 'ash-use2.mgmt.aibixby.com': 408, 'cas.api.samsungcloud.com': 68, 'api.shopliftr.com': 180, 'lcprd1.samsungcloudsolution.net': 357, 'use.fontawesome.com': 4, 'dpm.demdex.net': 17, 'fast.samsungelectronicsamericainc.demdex.net': 4, 'sssamsungcarefhprd.112.2o7.net': 6, 'idsync.rlcdn.com': 3, 'cm.g.doubleclick.net': 3, 'googleads.g.doubleclick.net': 3, 'analytics.twitter.com': 9, 'match.adsrvr.org': 17, 'cm.adgrx.com': 3, 'ag.innovid.com': 14, 'ads.undertone.com': 8, 'evt.undertone.com': 11, 'www.youtube.com': 27, 's.ytimg.com': 3, 'm.youtube.com': 3, 'fonts.gstatic.com': 4, 'accounts.google.com': 3, 'i.ytimg.com': 8, 'static.doubleclick.net': 3, 'img.tizenstore.com': 18, 'images.ads.shopliftr.com': 135, 'www.googleapis.com': 29}\n",
            "nov {'time.google.com': 6136, 'connectivitycheck.gstatic.com': 440, 'clients3.google.com': 583, 'clients1.google.com': 16, 'clients4.google.com': 64, 'android.clients.google.com': 149, 'tools.google.com': 192, 'google.com': 102, 'www.gstatic.com': 53, 'play.googleapis.com': 129, 'www.googleapis.com': 1448, 'device-provisioning.googleapis.com': 16, 'home-devices.googleapis.com': 32, 'gcm-http.googleapis.com': 6, 'mtalk.google.com': 97, 'www.google.com': 27}\n",
            "dec {'api.tizenservice.com': 421, 'api.weather.com': 3888, 'graph-custom.whisk.com': 434, 'graph.whisk.com': 1168, 'samsung-image-cdn.whisk.com': 223, 'us-fhapi.cspserver.net': 1616, 'gld.push.samsungosp.com': 612, 'cas.samsungcloud.com': 1147, 'provisioning-use2.mgmt.aibixby.com': 1477, 'ash-use2.mgmt.aibixby.com': 549, 'pool.ntp.org': 172, 'us-auth2.samsungosp.com': 5766, 'bixby-client.aibixby.com': 286, 'cdn-public-ustore-prod-use1.tizenservice.com': 635, 'cdn.britannica.com': 225, 'api.shopliftr.com': 162, 'log.samsunghrm.com': 551, 'api.ring.com': 238, 'www.samsungotn.net': 269, 'fhstatic.cspserver.net': 50, 'uimetadata.samsungiotcloud.com': 801, 'ocfconnect-shard-na03-useast2.samsungiotcloud.com': 2576, 'ap-odc.tizenstore.com': 5420, 'oauth.ring.com': 4603, 'connect-v2.samsungiotcloud.com': 16, 'images.ads.shopliftr.com': 162, 'api.samsungcloud.com': 552, 'api.sesupdate.com': 145, 'info.cspserver.net': 300, 'lcprd1.samsungcloudsolution.net': 119, 'ipv4.connman.net': 8, 'configprd.samsungcloudsolution.net': 34, 'esdk-ffl.spotify.com': 10, 'maps.googleapis.com': 3, 'www.googleapis.com': 29, 'connect.samsungiotcloud.com': 16, 'fhapi.cspserver.net': 25, 'cas.api.samsungcloud.com': 81, 'otn.samsungcloudcdn.com': 14, 'api.smartthings.com': 35, 'gprod-use1-pdss-sync.aibixby.com': 12, 'cdn-private-ustore-prod-use1.tizenservice.com': 18, 'cdn-api.sesupdate.com': 51}\n"
          ]
        }
      ]
    },
    {
      "cell_type": "code",
      "source": [
        "list_oct=list(octDomainDict.keys())\n",
        "list_nov=list(novDomainDict.keys())\n",
        "list_dec=list(decDomainDict.keys())\n",
        "\n",
        "all_list=list_oct+list_nov+list_dec\n",
        "oct_count=0\n",
        "print(len(list_oct))\n",
        "nov_count=0\n",
        "for num in list_nov:\n",
        "  if num not in list_oct:\n",
        "    nov_count+=1\n",
        "print(nov_count)\n",
        "\n",
        "dec_count=0\n",
        "for num in list_dec:\n",
        "  if num not in list_oct+list_nov:\n",
        "    dec_count+=1\n",
        "print(dec_count)\n",
        "\n",
        "count_common=0\n",
        "for num in list_nov:\n",
        "  if num in list_oct:\n",
        "    count_common+=1\n",
        "    print(num)\n",
        "\n",
        "print(\"common: \",count_common)\n",
        "\n",
        "\n",
        "\n",
        "print(len(list_oct),len(list_nov),len(list_dec))"
      ],
      "metadata": {
        "colab": {
          "base_uri": "https://localhost:8080/"
        },
        "id": "cOM6EJ8WC0Uu",
        "outputId": "1eaf5e1e-0723-475e-ae17-c7a3aeed9f9c"
      },
      "execution_count": 20,
      "outputs": [
        {
          "output_type": "stream",
          "name": "stdout",
          "text": [
            "54\n",
            "15\n",
            "11\n",
            "www.googleapis.com\n",
            "common:  1\n",
            "54 16 43\n"
          ]
        }
      ]
    },
    {
      "cell_type": "code",
      "metadata": {
        "colab": {
          "base_uri": "https://localhost:8080/",
          "height": 88
        },
        "id": "ogi6qvWc3Sko",
        "outputId": "f4459abf-915a-4a48-ef7a-1e97e2a25610"
      },
      "source": [
        "\"\"\"\n",
        "After careful observation of these domain names we can observe a few things-\n",
        "1. There are mainly 2 types of domain names-\n",
        "  a. imp-xx-electricimp.com\n",
        "  b. prdxxx.boxen.electricimp.com\n",
        "  Exception in May2021- upgrades.electricimp.com (may be because Software is getting updated)\n",
        "\n",
        "2. imp-xx.... domain name changes only after May (when there was upgrades domain name)\n",
        "\n",
        "3. One of prdxxx format domain name is present for consecutive 2 months, so 1 such domain name is common in 2 months\n",
        "\"\"\""
      ],
      "execution_count": null,
      "outputs": [
        {
          "output_type": "execute_result",
          "data": {
            "application/vnd.google.colaboratory.intrinsic+json": {
              "type": "string"
            },
            "text/plain": [
              "'\\nAfter careful observation of these domain names we can observe a few things-\\n1. There are mainly 2 types of domain names-\\n  a. imp-xx-electricimp.com\\n  b. prdxxx.boxen.electricimp.com\\n  Exception in May2021- upgrades.electricimp.com (may be because Software is getting updated)\\n\\n2. imp-xx.... domain name changes only after May (when there was upgrades domain name)\\n\\n3. One of prdxxx format domain name is present for consecutive 2 months, so 1 such domain name is common in 2 months\\n'"
            ]
          },
          "metadata": {},
          "execution_count": 10
        }
      ]
    },
    {
      "cell_type": "code",
      "metadata": {
        "id": "8fHzoKw1y-UF"
      },
      "source": [
        "domainCount = {}\n",
        "domainCount['October'] = sum(octDomainDict.values())\n",
        "domainCount['November'] = sum(novDomainDict.values())\n",
        "domainCount['December'] = sum(decDomainDict.values())"
      ],
      "execution_count": 16,
      "outputs": []
    },
    {
      "cell_type": "code",
      "metadata": {
        "colab": {
          "base_uri": "https://localhost:8080/",
          "height": 312
        },
        "id": "H20JD6u80b4f",
        "outputId": "f3ff7eca-b3c2-48cc-a5ed-d14c81542ec7"
      },
      "source": [
        "domainKeys = domainCount.keys()\n",
        "domainValues = domainCount.values()\n",
        "plt.title('Washer')\n",
        "plt.xlabel('Months')\n",
        "plt.ylabel('Number of Domain Names')\n",
        "\n",
        "plt.bar(domainKeys, domainValues)"
      ],
      "execution_count": 18,
      "outputs": [
        {
          "output_type": "execute_result",
          "data": {
            "text/plain": [
              "<BarContainer object of 3 artists>"
            ]
          },
          "metadata": {},
          "execution_count": 18
        },
        {
          "output_type": "display_data",
          "data": {
            "image/png": "[encoded data removed]",
            "text/plain": [
              "<Figure size 432x288 with 1 Axes>"
            ]
          },
          "metadata": {
            "needs_background": "light"
          }
        }
      ]
    },
    {
      "cell_type": "code",
      "metadata": {
        "colab": {
          "base_uri": "https://localhost:8080/"
        },
        "id": "RafBF2dS2XK3",
        "outputId": "4bcea87f-7519-43c8-b9a6-82141a5df77c"
      },
      "source": [
        "import pandas as pd\n",
        "ttlDF = pd.DataFrame(ttlList)\n",
        "print('TTL', ttlDF.describe())"
      ],
      "execution_count": 13,
      "outputs": [
        {
          "output_type": "stream",
          "name": "stdout",
          "text": [
            "TTL                   0\n",
            "count  7.069100e+04\n",
            "mean   1.606271e+09\n",
            "std    2.268920e+06\n",
            "min    1.602662e+09\n",
            "25%    1.603699e+09\n",
            "50%    1.607295e+09\n",
            "75%    1.608105e+09\n",
            "max    1.609496e+09\n"
          ]
        }
      ]
    },
    {
      "cell_type": "code",
      "metadata": {
        "id": "F-lmxs23Ojau"
      },
      "source": [
        ""
      ],
      "execution_count": null,
      "outputs": []
    }
  ]
}